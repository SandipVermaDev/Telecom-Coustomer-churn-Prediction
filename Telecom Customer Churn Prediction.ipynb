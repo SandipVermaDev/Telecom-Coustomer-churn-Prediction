{
 "cells": [
  {
   "cell_type": "markdown",
   "id": "322e38f8-5e30-40ff-b68e-ed92fd656bce",
   "metadata": {},
   "source": [
    "# Telecom Customer Churn Prediction\n",
    "\n",
    "The goal of this project is to analyze customer demographics, services, tenure, and other variables to predict whether a customer will churn (leave the company) or not.\n",
    "\n",
    "## Data Dictionary\n",
    "\n",
    "| Variable         | Description                                                                 |\n",
    "|------------------|-----------------------------------------------------------------------------|\n",
    "| CustomerID       | Unique customer ID                                                          |\n",
    "| Gender           | Customer's gender                                                           |\n",
    "| SeniorCitizen    | Whether the customer is a senior citizen (1 = Yes, 0 = No)                  |\n",
    "| Partner          | Whether the customer has a partner (Yes, No)                                |\n",
    "| Dependents       | Whether the customer has dependents (Yes, No)                               |\n",
    "| Tenure           | Number of months the customer has stayed with the company                   |\n",
    "| PhoneService     | Whether the customer has a phone service (Yes, No)                          |\n",
    "| MultipleLines    | Whether the customer has multiple lines (Yes, No, No phone service)         |\n",
    "| InternetService  | Customer’s internet service provider (DSL, Fiber optic, No)                 |\n",
    "| OnlineSecurity   | Whether the customer has online security (Yes, No, No internet service)     |\n",
    "| OnlineBackup     | Whether the customer has online backup (Yes, No, No internet service)       |\n",
    "| DeviceProtection | Whether the customer has device protection (Yes, No, No internet service)   |\n",
    "| TechSupport      | Whether the customer has tech support (Yes, No, No internet service)        |\n",
    "| StreamingTV      | Whether the customer has streaming TV (Yes, No, No internet service)        |\n",
    "| StreamingMovies  | Whether the customer has streaming movies (Yes, No, No internet service)    |\n",
    "| Contract         | The contract term (Month-to-month, One year, Two year)                      |\n",
    "| PaperlessBilling | Whether the customer has paperless billing (Yes, No)                        |\n",
    "| PaymentMethod    | Customer’s payment method (Electronic check, Mailed check, Bank transfer, Credit card) |\n",
    "| MonthlyCharges   | Amount charged to the customer monthly                                      |\n",
    "| TotalCharges     | Total amount charged to the customer                                        |\n",
    "| Churn            | Whether the customer churned (Yes or No)                                    |"
   ]
  },
  {
   "cell_type": "markdown",
   "id": "928af766-f7e3-4b72-a98d-90ea4ae251b3",
   "metadata": {},
   "source": [
    "#### Importing libraries"
   ]
  },
  {
   "cell_type": "code",
   "execution_count": 2,
   "id": "6d078a38-d539-40d6-be15-7286d0f455fa",
   "metadata": {},
   "outputs": [],
   "source": [
    "import numpy as np\n",
    "import pandas as pd\n",
    "import matplotlib.pyplot as plt\n",
    "import seaborn as sns"
   ]
  },
  {
   "cell_type": "markdown",
   "id": "ebf6959e-f6f2-4406-b66a-793e0e851a5d",
   "metadata": {},
   "source": [
    "#### Loading the dataset"
   ]
  },
  {
   "cell_type": "code",
   "execution_count": 3,
   "id": "d17514ce-4fa9-4108-9d4e-68194625d38e",
   "metadata": {},
   "outputs": [
    {
     "data": {
      "text/html": [
       "<div>\n",
       "<style scoped>\n",
       "    .dataframe tbody tr th:only-of-type {\n",
       "        vertical-align: middle;\n",
       "    }\n",
       "\n",
       "    .dataframe tbody tr th {\n",
       "        vertical-align: top;\n",
       "    }\n",
       "\n",
       "    .dataframe thead th {\n",
       "        text-align: right;\n",
       "    }\n",
       "</style>\n",
       "<table border=\"1\" class=\"dataframe\">\n",
       "  <thead>\n",
       "    <tr style=\"text-align: right;\">\n",
       "      <th></th>\n",
       "      <th>customerID</th>\n",
       "      <th>gender</th>\n",
       "      <th>SeniorCitizen</th>\n",
       "      <th>Partner</th>\n",
       "      <th>Dependents</th>\n",
       "      <th>tenure</th>\n",
       "      <th>PhoneService</th>\n",
       "      <th>MultipleLines</th>\n",
       "      <th>InternetService</th>\n",
       "      <th>OnlineSecurity</th>\n",
       "      <th>...</th>\n",
       "      <th>DeviceProtection</th>\n",
       "      <th>TechSupport</th>\n",
       "      <th>StreamingTV</th>\n",
       "      <th>StreamingMovies</th>\n",
       "      <th>Contract</th>\n",
       "      <th>PaperlessBilling</th>\n",
       "      <th>PaymentMethod</th>\n",
       "      <th>MonthlyCharges</th>\n",
       "      <th>TotalCharges</th>\n",
       "      <th>Churn</th>\n",
       "    </tr>\n",
       "  </thead>\n",
       "  <tbody>\n",
       "    <tr>\n",
       "      <th>0</th>\n",
       "      <td>7590-VHVEG</td>\n",
       "      <td>Female</td>\n",
       "      <td>0</td>\n",
       "      <td>Yes</td>\n",
       "      <td>No</td>\n",
       "      <td>1</td>\n",
       "      <td>No</td>\n",
       "      <td>No phone service</td>\n",
       "      <td>DSL</td>\n",
       "      <td>No</td>\n",
       "      <td>...</td>\n",
       "      <td>No</td>\n",
       "      <td>No</td>\n",
       "      <td>No</td>\n",
       "      <td>No</td>\n",
       "      <td>Month-to-month</td>\n",
       "      <td>Yes</td>\n",
       "      <td>Electronic check</td>\n",
       "      <td>29.85</td>\n",
       "      <td>29.85</td>\n",
       "      <td>No</td>\n",
       "    </tr>\n",
       "    <tr>\n",
       "      <th>1</th>\n",
       "      <td>5575-GNVDE</td>\n",
       "      <td>Male</td>\n",
       "      <td>0</td>\n",
       "      <td>No</td>\n",
       "      <td>No</td>\n",
       "      <td>34</td>\n",
       "      <td>Yes</td>\n",
       "      <td>No</td>\n",
       "      <td>DSL</td>\n",
       "      <td>Yes</td>\n",
       "      <td>...</td>\n",
       "      <td>Yes</td>\n",
       "      <td>No</td>\n",
       "      <td>No</td>\n",
       "      <td>No</td>\n",
       "      <td>One year</td>\n",
       "      <td>No</td>\n",
       "      <td>Mailed check</td>\n",
       "      <td>56.95</td>\n",
       "      <td>1889.5</td>\n",
       "      <td>No</td>\n",
       "    </tr>\n",
       "    <tr>\n",
       "      <th>2</th>\n",
       "      <td>3668-QPYBK</td>\n",
       "      <td>Male</td>\n",
       "      <td>0</td>\n",
       "      <td>No</td>\n",
       "      <td>No</td>\n",
       "      <td>2</td>\n",
       "      <td>Yes</td>\n",
       "      <td>No</td>\n",
       "      <td>DSL</td>\n",
       "      <td>Yes</td>\n",
       "      <td>...</td>\n",
       "      <td>No</td>\n",
       "      <td>No</td>\n",
       "      <td>No</td>\n",
       "      <td>No</td>\n",
       "      <td>Month-to-month</td>\n",
       "      <td>Yes</td>\n",
       "      <td>Mailed check</td>\n",
       "      <td>53.85</td>\n",
       "      <td>108.15</td>\n",
       "      <td>Yes</td>\n",
       "    </tr>\n",
       "  </tbody>\n",
       "</table>\n",
       "<p>3 rows × 21 columns</p>\n",
       "</div>"
      ],
      "text/plain": [
       "   customerID  gender  SeniorCitizen Partner Dependents  tenure PhoneService  \\\n",
       "0  7590-VHVEG  Female              0     Yes         No       1           No   \n",
       "1  5575-GNVDE    Male              0      No         No      34          Yes   \n",
       "2  3668-QPYBK    Male              0      No         No       2          Yes   \n",
       "\n",
       "      MultipleLines InternetService OnlineSecurity  ... DeviceProtection  \\\n",
       "0  No phone service             DSL             No  ...               No   \n",
       "1                No             DSL            Yes  ...              Yes   \n",
       "2                No             DSL            Yes  ...               No   \n",
       "\n",
       "  TechSupport StreamingTV StreamingMovies        Contract PaperlessBilling  \\\n",
       "0          No          No              No  Month-to-month              Yes   \n",
       "1          No          No              No        One year               No   \n",
       "2          No          No              No  Month-to-month              Yes   \n",
       "\n",
       "      PaymentMethod MonthlyCharges  TotalCharges Churn  \n",
       "0  Electronic check          29.85         29.85    No  \n",
       "1      Mailed check          56.95        1889.5    No  \n",
       "2      Mailed check          53.85        108.15   Yes  \n",
       "\n",
       "[3 rows x 21 columns]"
      ]
     },
     "execution_count": 3,
     "metadata": {},
     "output_type": "execute_result"
    }
   ],
   "source": [
    "df = pd.read_csv('Datasets/WA_Fn-UseC_-Telco-Customer-Churn.csv')\n",
    "df.head(3)"
   ]
  },
  {
   "cell_type": "markdown",
   "id": "a795840b-7f65-47aa-9f38-10502ed26dc8",
   "metadata": {},
   "source": [
    "### Data Preprocessing "
   ]
  },
  {
   "cell_type": "code",
   "execution_count": null,
   "id": "c5517376-031b-475c-8bad-14df99372c82",
   "metadata": {},
   "outputs": [],
   "source": [
    "#Checking the shape of the dataset\n",
    "df.shape"
   ]
  },
  {
   "cell_type": "code",
   "execution_count": null,
   "id": "b8ed36a9-baf1-4a81-a982-8eb97162d6ff",
   "metadata": {},
   "outputs": [],
   "source": [
    "#Checking the datatypes of the columns\n",
    "df.dtypes"
   ]
  },
  {
   "cell_type": "markdown",
   "id": "266bebe7-298a-4b5e-8373-bf550906d7eb",
   "metadata": {},
   "source": [
    "#### Type casting column Total Charges"
   ]
  },
  {
   "cell_type": "code",
   "execution_count": 5,
   "id": "bf768e6e-3664-4ac4-abcb-d558ac83eb61",
   "metadata": {},
   "outputs": [],
   "source": [
    "df['TotalCharges'] = pd.to_numeric(df['TotalCharges'], errors='coerce')"
   ]
  },
  {
   "cell_type": "code",
   "execution_count": null,
   "id": "b8455022-c89b-4484-8ba8-0ce57e4f2ba0",
   "metadata": {},
   "outputs": [],
   "source": [
    "df.dtypes"
   ]
  },
  {
   "cell_type": "code",
   "execution_count": null,
   "id": "1bcd0dc1-8cb0-49d8-8083-f0debe87b3fc",
   "metadata": {},
   "outputs": [],
   "source": [
    "#Checking for null values\n",
    "df.isnull().sum()"
   ]
  },
  {
   "cell_type": "code",
   "execution_count": 8,
   "id": "20ef389e-c878-44df-b5f5-0bf65a949aa1",
   "metadata": {},
   "outputs": [],
   "source": [
    "#Droping the null values\n",
    "df.dropna(inplace=True)"
   ]
  },
  {
   "cell_type": "code",
   "execution_count": null,
   "id": "37244281-47ee-498c-9a8c-de0faf50fb05",
   "metadata": {},
   "outputs": [],
   "source": [
    "df.isnull().sum()"
   ]
  },
  {
   "cell_type": "code",
   "execution_count": 10,
   "id": "0fdff272-a26b-4ce7-9715-ff190f1e5cbb",
   "metadata": {},
   "outputs": [],
   "source": [
    "#Removing the customerID column\n",
    "df.drop(columns='customerID', inplace=True)"
   ]
  },
  {
   "cell_type": "code",
   "execution_count": null,
   "id": "707c5a91-9ac1-4c7e-88a1-d1a31143827c",
   "metadata": {},
   "outputs": [],
   "source": [
    "#Checking for duplicate values\n",
    "df.duplicated().sum()"
   ]
  },
  {
   "cell_type": "code",
   "execution_count": 12,
   "id": "187b065a-a3ee-4bdf-bf3b-e27cdbe310fd",
   "metadata": {},
   "outputs": [],
   "source": [
    "#Removing the duplicate values\n",
    "df.drop_duplicates(inplace=True)"
   ]
  },
  {
   "cell_type": "code",
   "execution_count": null,
   "id": "bdad8f13-9a98-41a6-b356-dbd8eecf817c",
   "metadata": {},
   "outputs": [],
   "source": [
    "df.duplicated().sum()"
   ]
  },
  {
   "cell_type": "code",
   "execution_count": null,
   "id": "17e9409b-2f67-42ff-bdc1-ec811bc7adfd",
   "metadata": {},
   "outputs": [],
   "source": [
    "#checking number of unique values in each column\n",
    "df.nunique()"
   ]
  },
  {
   "cell_type": "code",
   "execution_count": null,
   "id": "b68a3163-4e1f-4f47-9d26-222ba54e8ab7",
   "metadata": {},
   "outputs": [],
   "source": [
    "columns = df.columns\n",
    "columns"
   ]
  },
  {
   "cell_type": "code",
   "execution_count": null,
   "id": "c905cc22-1b69-44b9-b43c-be57aeeedb30",
   "metadata": {},
   "outputs": [],
   "source": [
    "#Checking the unique values in each column\n",
    "for i in columns:\n",
    "    print(i, df[i].unique(), '\\n')"
   ]
  },
  {
   "cell_type": "markdown",
   "id": "a8be245f-86a0-4a25-9c23-7665a509e9c9",
   "metadata": {},
   "source": [
    "#### Descriptive Statistics"
   ]
  },
  {
   "cell_type": "code",
   "execution_count": null,
   "id": "0fb1898e-5d89-4d38-9321-bd506b27cd21",
   "metadata": {},
   "outputs": [],
   "source": [
    "df.describe()"
   ]
  },
  {
   "cell_type": "code",
   "execution_count": null,
   "id": "771842bd-ec4a-402d-a6bb-9676901c2b02",
   "metadata": {},
   "outputs": [],
   "source": [
    "df.head(3)"
   ]
  },
  {
   "cell_type": "markdown",
   "id": "d323347f-65e6-4f13-a753-76eba1ecf061",
   "metadata": {},
   "source": [
    "# Exploratory Data Analysis (EDA)\n",
    "\n",
    "In this section, we visualize and explore the data to identify patterns, trends, and relationships between features and the target variable (Churn).\n",
    "\n",
    "### Customer Demographics"
   ]
  },
  {
   "cell_type": "code",
   "execution_count": null,
   "id": "a97084cc-5c21-4809-9b70-09c7fbe53b3f",
   "metadata": {},
   "outputs": [],
   "source": [
    "plt.figure(figsize=(15,10))\n",
    "\n",
    "#Gender Distribution\n",
    "plt.subplot(2, 2, 1)\n",
    "plt.pie(df['gender'].value_counts(),labels=['Male','Female'],autopct='%1.2f%%')\n",
    "plt.title('Gender Distribution')\n",
    "\n",
    "#Senior Citizen Distribution\n",
    "plt.subplot(2, 2, 2)\n",
    "sns.barplot(y = df['SeniorCitizen'].value_counts(), x = df['SeniorCitizen'].unique()).set_title('Senior Citizen')\n",
    "\n",
    "#Partner Distribution\n",
    "plt.subplot(2, 2, 3)\n",
    "sns.barplot(y = df['Partner'].value_counts(), x = df['Partner'].unique()).set_title('Partner')\n",
    "\n",
    "#Dependents Distribution\n",
    "plt.subplot(2, 2, 4)\n",
    "sns.barplot(y = df['Dependents'].value_counts(), x = df['Dependents'].unique()).set_title('Dependents')\n",
    "\n",
    "\n",
    "plt.show()"
   ]
  },
  {
   "cell_type": "markdown",
   "id": "fea2967a-7967-4c36-a9a4-95f07f6ef248",
   "metadata": {},
   "source": [
    "**Customer Demographics Visualization**\n",
    "\n",
    "- The gender distribution is nearly equal.\n",
    "- Most customers are not senior citizens.\n",
    "- The number of customers with and without partners is similar.\n",
    "- Most customers do not have dependents.\n",
    "\n",
    "These insights help us understand the basic profile of the customer base."
   ]
  },
  {
   "cell_type": "markdown",
   "id": "cc7d39fe-70d3-40ef-9d8f-cccf7f79d3c7",
   "metadata": {},
   "source": [
    "## Services"
   ]
  },
  {
   "cell_type": "code",
   "execution_count": null,
   "id": "d921ee72-40cb-4553-88ff-48525fa3bcd0",
   "metadata": {},
   "outputs": [],
   "source": [
    "plt.figure(figsize=(20, 20))\n",
    "\n",
    "#phone service\n",
    "plt.subplot(3,3,1)\n",
    "sns.countplot(x=df['PhoneService'],hue=df['PhoneService']).set_title(\"Phone Service\")\n",
    "\n",
    "#Multiple Lines\n",
    "plt.subplot(3,3,2)\n",
    "sns.countplot(x=df['MultipleLines'],hue=df['MultipleLines']).set_title(\"Multiple Lines\")\n",
    "\n",
    "#Internet Service\n",
    "plt.subplot(3,3,3)\n",
    "sns.countplot(x=df['InternetService'],hue=df['InternetService']).set_title(\"Internet Service\")\n",
    "\n",
    "#Online Security\n",
    "plt.subplot(3,3,4)\n",
    "sns.countplot(x=df['OnlineSecurity'],hue=df['OnlineSecurity']).set_title(\"Online Security\")\n",
    "\n",
    "#Online Backup\n",
    "plt.subplot(3,3,5)\n",
    "sns.countplot(x=df['OnlineBackup'],hue=df['OnlineBackup']).set_title(\"Online Backup\")\n",
    "\n",
    "#Device Protection\n",
    "plt.subplot(3,3,6)\n",
    "sns.countplot(x=df['DeviceProtection'],hue=df['DeviceProtection']).set_title(\"Device Protection\")\n",
    "\n",
    "#Tech Support\n",
    "plt.subplot(3,3,7)\n",
    "sns.countplot(x=df['TechSupport'],hue=df['TechSupport']).set_title(\"Tech Support\")\n",
    "\n",
    "#Streaming TV\n",
    "plt.subplot(3,3,8)\n",
    "sns.countplot(x=df['StreamingTV'],hue=df['StreamingTV']).set_title(\"Streaming TV\")\n",
    "\n",
    "#Streaming Movies\n",
    "plt.subplot(3,3,9)\n",
    "sns.countplot(x=df['StreamingMovies'],hue=df['StreamingMovies']).set_title(\"Streaming Movies\")\n",
    "\n",
    "plt.show()"
   ]
  },
  {
   "cell_type": "markdown",
   "id": "d925df9f-5b87-4422-b867-09297e51caf7",
   "metadata": {},
   "source": [
    "**Service Subscription Insights**\n",
    "\n",
    "- Most customers have phone service.\n",
    "- About half have multiple lines.\n",
    "- Internet service is popular, with many choosing fiber optic.\n",
    "- Online backup and device protection are moderately popular.\n",
    "- Streaming services are among the most opted services.\n",
    "\n",
    "Understanding service preferences helps identify which offerings are most valued by customers."
   ]
  },
  {
   "cell_type": "markdown",
   "id": "fa0daf77-cd8f-4fe1-8466-ef0fcc388ca5",
   "metadata": {},
   "source": [
    "### Tenure and Contract"
   ]
  },
  {
   "cell_type": "code",
   "execution_count": null,
   "id": "2fc99016-0713-47dc-b2dc-d674dd58acdf",
   "metadata": {},
   "outputs": [],
   "source": [
    "plt.figure(figsize=(12,6))\n",
    "\n",
    "plt.subplot(1,2,1)\n",
    "sns.histplot(x = 'tenure', data = df).set_title('Cutomer Tenure in Months')\n",
    "\n",
    "plt.subplot(1,2,2)\n",
    "sns.countplot(x = 'Contract', data = df,hue='Contract').set_title('Contract Type')\n",
    "\n",
    "plt.show()"
   ]
  },
  {
   "cell_type": "markdown",
   "id": "fa0a0066-d20e-44e9-a343-b7876d4ce098",
   "metadata": {},
   "source": [
    "**Tenure and Contract Insights**\n",
    "\n",
    "- Most customers have a short tenure (less than a year) with the company.\n",
    "- The majority of customers are on month-to-month contracts.\n",
    "- A significant number of loyal customers have a tenure close to 70 months.\n",
    "- Two-year contracts are the next most popular after month-to-month.\n",
    "\n",
    "This analysis helps us understand customer loyalty and contract preferences."
   ]
  },
  {
   "cell_type": "markdown",
   "id": "b3cfce67-2386-490b-acf8-abb7c39b145b",
   "metadata": {},
   "source": [
    "### Billing and Charges"
   ]
  },
  {
   "cell_type": "code",
   "execution_count": null,
   "id": "c0da6193-7764-4a1b-b4ae-274fe1e70082",
   "metadata": {},
   "outputs": [],
   "source": [
    "plt.figure(figsize=(15,10))\n",
    "plt.subplots_adjust(hspace=.6)\n",
    "\n",
    "#papaerless billing\n",
    "plt.subplot(2,2,1)\n",
    "sns.countplot(x = df['PaperlessBilling'],hue=df['PaperlessBilling']).set_title('Paperless Billing')\n",
    "\n",
    "#Payment Method\n",
    "plt.subplot(2,2,2)\n",
    "sns.countplot(x = df['PaymentMethod'],hue=df['PaymentMethod']).set_title('Payment Method')\n",
    "plt.xticks(rotation=30)\n",
    "\n",
    "#Monthly Charges\n",
    "plt.subplot(2,2,3)\n",
    "sns.histplot(x=df['MonthlyCharges']).set_title(\"Monthly Charges\")\n",
    "\n",
    "#Total Charges\n",
    "plt.subplot(2,2,4)\n",
    "sns.histplot(x=df['TotalCharges']).set_title(\"Total Charges\")\n",
    "\n",
    "plt.show()"
   ]
  },
  {
   "cell_type": "markdown",
   "id": "fde67c10-812b-4d7b-ae8b-f66f56bc2b6b",
   "metadata": {},
   "source": [
    "**Billing and Charges Insights**\n",
    "\n",
    "- Most customers prefer paperless billing, but a significant number still use paper bills.\n",
    "- Electronic check is the most common payment method, followed by mailed checks, bank transfers, and credit cards.\n",
    "- Many customers pay around $20 per month, but some pay much higher monthly charges.\n",
    "- Most customers have total charges below $2000, but a few have much higher totals, likely due to long tenure or multiple services.\n",
    "\n",
    "Understanding billing and payment preferences can help the company tailor its offerings and improve customer satisfaction."
   ]
  },
  {
   "cell_type": "markdown",
   "id": "d86e8acc-1bcf-4457-8899-ade132aa725e",
   "metadata": {},
   "source": [
    "### Churn Count"
   ]
  },
  {
   "cell_type": "code",
   "execution_count": null,
   "id": "9c20044e-56b4-4eda-941b-890950c3b350",
   "metadata": {},
   "outputs": [],
   "source": [
    "plt.pie(x = df['Churn'].value_counts(), labels = df['Churn'].unique(), autopct = '%1.2f%%')\n",
    "plt.title('Churn Count')\n",
    "plt.show()"
   ]
  },
  {
   "cell_type": "markdown",
   "id": "b71ef8d3-bea8-4a21-b1dd-993ae26f4acb",
   "metadata": {},
   "source": [
    "**Churn Rate Insights**\n",
    "\n",
    "- Only about 26% of customers have churned, while the majority have stayed.\n",
    "- This indicates that the company is relatively successful at retaining its customers.\n",
    "\n",
    "Monitoring churn rate is crucial for business growth and customer retention strategies.In the dataset, the number of churning customers is very less as compared to non churning. Only 26.49% churnned from the telecom company. This could be a potential proof, that company is quite good at retaning its customers."
   ]
  },
  {
   "cell_type": "markdown",
   "id": "4f1021e0-38dd-4b4a-97aa-0a1c52f675ff",
   "metadata": {},
   "source": [
    "---\n",
    "\n",
    "## Analyzing Churn by Customer Characteristics\n",
    "\n",
    "Now, let's explore how different customer characteristics relate to churn.\n",
    "\n",
    "### Customer Demogrpahics and Churn"
   ]
  },
  {
   "cell_type": "code",
   "execution_count": null,
   "id": "7077145e-21ba-4a38-a409-bcd31c823dbf",
   "metadata": {},
   "outputs": [],
   "source": [
    "plt.figure(figsize=(15,10))\n",
    "\n",
    "#Gender Distribution\n",
    "plt.subplot(2, 2, 1)\n",
    "sns.countplot(x=df['gender'],hue=df['Churn']).set_title(\"Gender and Churn\")\n",
    "\n",
    "#Senior Citizen Distribution\n",
    "plt.subplot(2, 2, 2)\n",
    "sns.countplot(x=df['SeniorCitizen'],hue=df['Churn']).set_title(\"Senior Citizen and Churn\")\n",
    "\n",
    "#Partner Distribution\n",
    "plt.subplot(2, 2, 3)\n",
    "sns.countplot(x=df['Partner'],hue=df['Churn']).set_title(\"Partner and Churn\")\n",
    "\n",
    "#Dependents Distribution\n",
    "plt.subplot(2, 2, 4)\n",
    "sns.countplot(x=df['Dependents'],hue=df['Churn']).set_title(\"Dependents and Churn\")\n",
    "\n",
    "plt.show()"
   ]
  },
  {
   "cell_type": "markdown",
   "id": "30ee3bdd-66e6-4a32-b3ab-3f603c363c7b",
   "metadata": {},
   "source": [
    "**Churn by Demographics**\n",
    "\n",
    "- Churn rates are similar for both genders.\n",
    "- Senior citizens have a slightly lower churn rate than non-senior citizens.\n",
    "- Customers without partners or dependents are more likely to churn.\n",
    "\n",
    "This suggests that single customers or those without dependents may be at higher risk of leaving."
   ]
  },
  {
   "cell_type": "markdown",
   "id": "b55328c6-f81b-4094-affb-a204d41948cd",
   "metadata": {},
   "source": [
    "### Services and Churn"
   ]
  },
  {
   "cell_type": "code",
   "execution_count": null,
   "id": "cd4b17a0-73a3-49f8-8c7f-fbd6dfed233a",
   "metadata": {},
   "outputs": [],
   "source": [
    "plt.figure(figsize=(20, 20))\n",
    "\n",
    "#phone service\n",
    "plt.subplot(3,3,1)\n",
    "sns.countplot(x=df['PhoneService'],hue=df['Churn']).set_title(\"Phone Service and Chrun\")\n",
    "\n",
    "#Multiple Lines\n",
    "plt.subplot(3,3,2)\n",
    "sns.countplot(x=df['MultipleLines'],hue=df['Churn']).set_title(\"Multiple Lines and Churn\")\n",
    "\n",
    "#Internet Service\n",
    "plt.subplot(3,3,3)\n",
    "sns.countplot(x=df['InternetService'],hue=df['Churn']).set_title(\"Internet Service and Churn\")\n",
    "\n",
    "#Online Security\n",
    "plt.subplot(3,3,4)\n",
    "sns.countplot(x=df['OnlineSecurity'],hue=df['Churn']).set_title(\"Online Security and Churn\")\n",
    "\n",
    "#Online Backup\n",
    "plt.subplot(3,3,5)\n",
    "sns.countplot(x=df['OnlineBackup'],hue=df['Churn']).set_title(\"Online Backup and Churn\")\n",
    "\n",
    "#Device Protection\n",
    "plt.subplot(3,3,6)\n",
    "sns.countplot(x=df['DeviceProtection'],hue=df['Churn']).set_title(\"Device Protection and Churn\")\n",
    "\n",
    "#Tech Support\n",
    "plt.subplot(3,3,7)\n",
    "sns.countplot(x=df['TechSupport'],hue=df['Churn']).set_title(\"Tech Support and Churn\")\n",
    "\n",
    "#Streaming TV\n",
    "plt.subplot(3,3,8)\n",
    "sns.countplot(x=df['StreamingTV'],hue=df['Churn']).set_title(\"Streaming TV and Churn\")\n",
    "\n",
    "#Streaming Movies\n",
    "plt.subplot(3,3,9)\n",
    "sns.countplot(x=df['StreamingMovies'],hue=df['Churn']).set_title(\"Streaming Movies and Churn\")\n",
    "\n",
    "plt.show()"
   ]
  },
  {
   "cell_type": "markdown",
   "id": "314bc1c0-f1ef-4a50-88f5-b71646a9efae",
   "metadata": {},
   "source": [
    "**Churn by Service Usage**\n",
    "\n",
    "- Customers with multiple lines have a higher churn rate.\n",
    "- Not subscribing to online backup or device protection is associated with higher churn.\n",
    "- Customers who use streaming services are less likely to churn.\n",
    "\n",
    "Offering value-added services may help reduce churn."
   ]
  },
  {
   "cell_type": "markdown",
   "id": "e3146ff8-5c98-4e5f-9412-1b76c45b2a58",
   "metadata": {},
   "source": [
    "### Tenure/Contract and Churn"
   ]
  },
  {
   "cell_type": "code",
   "execution_count": null,
   "id": "a1302769-37cb-4341-8493-b2ef48d43b7b",
   "metadata": {},
   "outputs": [],
   "source": [
    "plt.figure(figsize=(12,6))\n",
    "\n",
    "plt.subplot(1,2,1)\n",
    "sns.histplot(x = 'tenure', data = df, hue='Churn', multiple = 'stack').set_title('Cutomer Tenure (in Months) and Churn') \n",
    "\n",
    "plt.subplot(1,2,2)\n",
    "sns.countplot(x = 'Contract', data = df,hue='Churn').set_title('Contract Type and Churn')\n",
    "\n",
    "plt.show()"
   ]
  },
  {
   "cell_type": "markdown",
   "id": "007fec0c-91e8-4b20-87ae-685aaab9f15b",
   "metadata": {},
   "source": [
    "**Churn by Tenure and Contract**\n",
    "\n",
    "- Customers with shorter tenure (less than 5 months) have a higher churn rate.\n",
    "- Churn rate decreases as tenure increases.\n",
    "- Month-to-month contracts are associated with higher churn compared to one-year or two-year contracts.\n",
    "\n",
    "Longer contracts and customer loyalty are linked to lower churn."
   ]
  },
  {
   "cell_type": "markdown",
   "id": "17b0052f-83e8-4ef6-92d3-a8446cbe2ac6",
   "metadata": {},
   "source": [
    "### Billing/Charges and Churn"
   ]
  },
  {
   "cell_type": "code",
   "execution_count": null,
   "id": "40da651b-5e83-4df0-a8d6-457d58b2ffe4",
   "metadata": {},
   "outputs": [],
   "source": [
    "plt.figure(figsize=(15,10))\n",
    "plt.subplots_adjust(hspace=.6)\n",
    "\n",
    "#papaerless billing\n",
    "plt.subplot(2,2,1)\n",
    "sns.countplot(x = df['PaperlessBilling'],hue=df['Churn']).set_title('Paperless Billing and Churn')\n",
    "\n",
    "#Payment Method\n",
    "plt.subplot(2,2,2)\n",
    "sns.countplot(x = df['PaymentMethod'],hue=df['Churn']).set_title('Payment Method and Churn')\n",
    "plt.xticks(rotation=30)\n",
    "\n",
    "#Monthly Charges\n",
    "plt.subplot(2,2,3)\n",
    "sns.histplot(x=df['MonthlyCharges'], hue = df['Churn'], multiple= 'stack').set_title(\"Monthly Charges and Churn\")\n",
    "\n",
    "#Total Charges\n",
    "plt.subplot(2,2,4)\n",
    "sns.histplot(x=df['TotalCharges'], hue = df['Churn'], multiple= 'stack').set_title(\"Total Charges and Churn\")\n",
    "\n",
    "plt.show()"
   ]
  },
  {
   "cell_type": "markdown",
   "id": "38b089a1-ccce-4a85-bdfb-47aedc012b8d",
   "metadata": {},
   "source": [
    "**Churn by Billing and Charges**\n",
    "\n",
    "- Paperless billing and payment method do not show a strong relationship with churn.\n",
    "- Customers with higher monthly charges are more likely to churn.\n",
    "- Customers with higher total charges are less likely to churn, possibly due to longer tenure or more services.\n",
    "\n",
    "Reducing monthly charges for at-risk customers may help reduce churn."
   ]
  },
  {
   "cell_type": "markdown",
   "id": "b286c498-1f36-4e9f-904b-902c343e724a",
   "metadata": {},
   "source": [
    "### Multivariate Analysis"
   ]
  },
  {
   "cell_type": "code",
   "execution_count": null,
   "id": "c6c6df5f-f93c-4956-b641-f34c3d2e0e7d",
   "metadata": {},
   "outputs": [],
   "source": [
    "plt.figure(figsize=(20, 30))\n",
    "\n",
    "plt.subplot(3, 1, 1)\n",
    "sns.scatterplot(x=df[\"tenure\"], y=df[\"MonthlyCharges\"], hue=df[\"Churn\"])\n",
    "plt.title(\"Tenure vs. Monthly Charges by Churn\")\n",
    "\n",
    "plt.subplot(3, 1, 2)\n",
    "sns.heatmap(pd.crosstab(index=[df['InternetService'], df['Contract']], columns=df['Churn'], normalize='index'), annot=True, cmap=\"coolwarm\")\n",
    "plt.title(\"Internet Service, Contract Type, and Churn\")\n",
    "\n",
    "plt.subplot(3, 1, 3)\n",
    "sns.scatterplot(x=df[\"TotalCharges\"], y=df[\"MonthlyCharges\"], hue=df[\"Churn\"])\n",
    "plt.title(\"Total Charges vs. Monthly Charges by Churn\")\n",
    "\n",
    "plt.show()"
   ]
  },
  {
   "cell_type": "markdown",
   "id": "439f6526-bb3e-42d5-ad67-79d371606370",
   "metadata": {},
   "source": [
    "**Multivariate Insights**\n",
    "\n",
    "- Customers with short tenure and high monthly charges are more likely to churn.\n",
    "- Month-to-month contracts, especially with fiber optic internet, have higher churn rates.\n",
    "- Customers with high total charges (long-term customers) are less likely to churn, even if their monthly charges are high.\n",
    "\n",
    "These patterns help identify high-risk customer segments."
   ]
  },
  {
   "cell_type": "markdown",
   "id": "10b155d8-5126-491e-8207-abf4eed15bd2",
   "metadata": {},
   "source": [
    "## Outlier Removal"
   ]
  },
  {
   "cell_type": "code",
   "execution_count": null,
   "id": "fb7136bf-fad3-4a33-9a3b-0832c949f020",
   "metadata": {},
   "outputs": [],
   "source": [
    "df.shape"
   ]
  },
  {
   "cell_type": "code",
   "execution_count": 30,
   "id": "95e85dd5-1fa7-41f9-b274-7f594aa22ffc",
   "metadata": {},
   "outputs": [],
   "source": [
    "#Columns for outlier removal\n",
    "cols = ['tenure', 'MonthlyCharges', 'TotalCharges']\n",
    "\n",
    "#Using IQR method to remove outliers\n",
    "Q1 = df[cols].quantile(0.25)\n",
    "Q3 = df[cols].quantile(0.75)\n",
    "IQR = Q3 - Q1\n",
    "\n",
    "#Removing the outliers\n",
    "# df = df[(df[cols] < (Q1 - 1.5 * IQR)) |(df[cols] > (Q3 + 1.5 * IQR))]\n",
    "df = df[~((df[cols] < (Q1 - 1.5 * IQR)) |(df[cols] > (Q3 + 1.5 * IQR))).any(axis=1)]"
   ]
  },
  {
   "cell_type": "code",
   "execution_count": null,
   "id": "c5e7a0d1-fc79-46a8-96f5-31eec99f19f1",
   "metadata": {},
   "outputs": [],
   "source": [
    "df.shape"
   ]
  },
  {
   "cell_type": "markdown",
   "id": "53feee3a-486c-4542-9eef-21a3a3843c8d",
   "metadata": {},
   "source": [
    "No significant outliers were found in the dataset."
   ]
  },
  {
   "cell_type": "code",
   "execution_count": null,
   "id": "9a9ce608-83ea-475a-bdd1-55348fc6c4f1",
   "metadata": {},
   "outputs": [],
   "source": []
  },
  {
   "cell_type": "code",
   "execution_count": null,
   "id": "fe12d9ca-ae7c-44d3-aa53-918c23aad805",
   "metadata": {},
   "outputs": [],
   "source": [
    "#Checking the unique values in each column\n",
    "for i in columns:\n",
    "    print(i, df[i].unique(), '\\n')"
   ]
  },
  {
   "cell_type": "markdown",
   "id": "0e7653ad-fad9-4f1d-8938-9b418d1f6a9e",
   "metadata": {},
   "source": [
    "## Label Encoding"
   ]
  },
  {
   "cell_type": "code",
   "execution_count": 33,
   "id": "1daf892b-f63e-4e04-81fa-e0306dd89913",
   "metadata": {},
   "outputs": [],
   "source": [
    "from sklearn.preprocessing import LabelEncoder"
   ]
  },
  {
   "cell_type": "code",
   "execution_count": null,
   "id": "880256c6-22cc-403b-8be3-bf996904d1f8",
   "metadata": {},
   "outputs": [],
   "source": [
    "#colums for label encoding\n",
    "cols = df.columns[df.dtypes == 'object']\n",
    "\n",
    "# Dictionary to store one LabelEncoder per column\n",
    "label_encoders = {}\n",
    "\n",
    "# Apply label encoding column-wise and store encoders\n",
    "for col in cols:\n",
    "    le = LabelEncoder()\n",
    "    df[col] = le.fit_transform(df[col])\n",
    "    label_encoders[col] = le  # Save the encoder for that column\n",
    "    print(col, df[col].unique(), '\\n')"
   ]
  },
  {
   "cell_type": "markdown",
   "id": "c9102d04-cb61-4b7a-baa8-ce0f7fbf3cdf",
   "metadata": {},
   "source": [
    "## Feature Scaling"
   ]
  },
  {
   "cell_type": "code",
   "execution_count": 35,
   "id": "15c6f985-7b3d-4c09-b241-028afc5e3111",
   "metadata": {},
   "outputs": [],
   "source": [
    "from sklearn.preprocessing import StandardScaler"
   ]
  },
  {
   "cell_type": "code",
   "execution_count": null,
   "id": "10592e71-7c3a-407a-bb5b-16a1eac27210",
   "metadata": {},
   "outputs": [],
   "source": [
    "#Standardizing the data\n",
    "sc = StandardScaler()\n",
    "df[['tenure', 'MonthlyCharges', 'TotalCharges']] = sc.fit_transform(df[['tenure', 'MonthlyCharges', 'TotalCharges']])\n",
    "\n",
    "df.head(3)"
   ]
  },
  {
   "cell_type": "markdown",
   "id": "c9877a6e-cf27-4bed-a3b4-00725813c193",
   "metadata": {},
   "source": [
    "## Correlation Matrix Heatmap"
   ]
  },
  {
   "cell_type": "code",
   "execution_count": null,
   "id": "52edc265-f188-4a4f-87ff-c6416de56ac0",
   "metadata": {},
   "outputs": [],
   "source": [
    "plt.figure(figsize=(15, 15))\n",
    "sns.heatmap(df.corr(), annot=True)\n",
    "plt.show()"
   ]
  },
  {
   "cell_type": "markdown",
   "id": "2a39c4fa-f5ff-437b-9a19-70ffc20774dc",
   "metadata": {},
   "source": [
    "## Train Test Split"
   ]
  },
  {
   "cell_type": "code",
   "execution_count": 38,
   "id": "f82b8caf-b38a-4f35-b462-14ed5c07eecc",
   "metadata": {},
   "outputs": [],
   "source": [
    "from sklearn.model_selection import train_test_split"
   ]
  },
  {
   "cell_type": "code",
   "execution_count": null,
   "id": "4b51c869-7a5c-4383-8cb5-76e4ed883ef8",
   "metadata": {},
   "outputs": [],
   "source": [
    "X=df.drop(columns='Churn')\n",
    "y=df['Churn']\n",
    "\n",
    "X.shape , y.shape"
   ]
  },
  {
   "cell_type": "code",
   "execution_count": null,
   "id": "f6ea69cd-b55b-47b2-9f57-05278c1ee043",
   "metadata": {},
   "outputs": [],
   "source": [
    "y.value_counts()"
   ]
  },
  {
   "cell_type": "code",
   "execution_count": null,
   "id": "d471e675-53c9-4ec4-ba72-daa3e374d37d",
   "metadata": {},
   "outputs": [],
   "source": []
  },
  {
   "cell_type": "code",
   "execution_count": null,
   "id": "5a06d0bb-7534-48a4-a36c-c9ee398e6bde",
   "metadata": {},
   "outputs": [],
   "source": [
    "# stratify=y ensures the model is trained on a representative dataset.\n",
    "X_train, X_test, y_train, y_test = train_test_split(X, y, test_size=0.2, random_state=42,stratify=y)\n",
    "X_train.shape , X_test.shape, y_train.shape, y_test.shape"
   ]
  },
  {
   "cell_type": "code",
   "execution_count": null,
   "id": "b43a368a-2f09-4f32-b10f-c6e8bf204218",
   "metadata": {},
   "outputs": [],
   "source": []
  },
  {
   "cell_type": "code",
   "execution_count": null,
   "id": "f8ac23f9-4a27-4513-9a79-7fe9c748ef75",
   "metadata": {},
   "outputs": [],
   "source": [
    "y_train.value_counts()"
   ]
  },
  {
   "cell_type": "markdown",
   "id": "def1000d-e795-43d3-a88e-a9004935415c",
   "metadata": {},
   "source": [
    "#### Why Not Apply SMOTE Before Splitting?\n",
    "\n",
    "- **Data Leakage Risk:** Applying SMOTE before splitting can cause synthetic samples from the test set to influence the training set, leading to overly optimistic results.\n",
    "- **Incorrect Model Evaluation:** The test set should reflect real-world data distribution. Oversampling before splitting makes the test set artificially balanced.\n",
    "\n",
    "#### Correct Approach: Apply SMOTE After Splitting\n",
    "\n",
    "- Split the dataset first, so the test set remains untouched.\n",
    "- Apply SMOTE only to the training set to balance the classes.\n",
    "- Use the resampled training set for model training."
   ]
  },
  {
   "cell_type": "markdown",
   "id": "621851fa-f4ad-4ec6-9f77-0598636ae412",
   "metadata": {},
   "source": [
    "### Applying SMOTE to balance training data"
   ]
  },
  {
   "cell_type": "code",
   "execution_count": 43,
   "id": "c9216f7e-2133-4a36-852b-7f098fc74bb8",
   "metadata": {},
   "outputs": [],
   "source": [
    "# from imblearn.over_sampling import SMOTE\n",
    "# smote = SMOTE(random_state=42,sampling_strategy=0.7)\n",
    "# smote"
   ]
  },
  {
   "cell_type": "code",
   "execution_count": null,
   "id": "0337f2d8-03ae-4db6-aa10-94b7b3f31884",
   "metadata": {},
   "outputs": [],
   "source": [
    "from imblearn.combine import SMOTETomek\n",
    "smote = SMOTETomek(random_state=42, sampling_strategy=0.6)\n",
    "smote"
   ]
  },
  {
   "cell_type": "code",
   "execution_count": null,
   "id": "4a8ff05a-5a53-4560-989d-f7c861c1b44d",
   "metadata": {},
   "outputs": [],
   "source": [
    "X_train_resampled, y_train_resampled = smote.fit_resample(X_train, y_train)\n",
    "X_train_resampled.shape, y_train_resampled.shape"
   ]
  },
  {
   "cell_type": "code",
   "execution_count": null,
   "id": "6641dc2b-27d5-4a6a-84ed-1bc46a8320d7",
   "metadata": {},
   "outputs": [],
   "source": [
    "y_train_resampled.value_counts()"
   ]
  },
  {
   "cell_type": "code",
   "execution_count": null,
   "id": "4de0a0f9-3cc3-4c3d-8507-d4ccbdefab46",
   "metadata": {},
   "outputs": [],
   "source": []
  },
  {
   "cell_type": "markdown",
   "id": "8ab30c31-aae3-4f96-bc99-62d6a378ac66",
   "metadata": {},
   "source": [
    "## Model Building"
   ]
  },
  {
   "cell_type": "markdown",
   "id": "e844199a-e1cf-49a1-8f89-2f0f536cefc1",
   "metadata": {},
   "source": [
    "### Decision Tree Classifier\n",
    "\n",
    "A simple, interpretable model that splits data based on feature values."
   ]
  },
  {
   "cell_type": "code",
   "execution_count": 47,
   "id": "b5261194-23bf-4df2-9fad-09539a256b0b",
   "metadata": {},
   "outputs": [],
   "source": [
    "from sklearn.tree import DecisionTreeClassifier\n",
    "\n",
    "#Decision Tree Classifier Object\n",
    "dtree  = DecisionTreeClassifier(random_state=42)"
   ]
  },
  {
   "cell_type": "markdown",
   "id": "df89ebe9-68a6-49a3-a5cc-0b89b7c847cd",
   "metadata": {},
   "source": [
    "#### Hyperparameter Tuning using GridSearchCV"
   ]
  },
  {
   "cell_type": "code",
   "execution_count": 48,
   "id": "5044e3c2-4972-489a-b674-2cc6704bc617",
   "metadata": {},
   "outputs": [],
   "source": [
    "from sklearn.model_selection import GridSearchCV"
   ]
  },
  {
   "cell_type": "code",
   "execution_count": null,
   "id": "de984294-167a-4927-968c-86e05100f7a1",
   "metadata": {},
   "outputs": [],
   "source": [
    "#parameter grid\n",
    "# param_grid = {\n",
    "#     'max_depth': [2,4,6,8,10],\n",
    "#     'min_samples_leaf': [2,4,6,8,10],\n",
    "#     'min_samples_split': [2,4,6,8,10],\n",
    "#     'criterion': ['gini', 'entropy'],\n",
    "#     'random_state': [0,42]\n",
    "# }\n",
    "\n",
    "param_grid = {\n",
    "    'max_depth': [4, 6, 8],  # Reduce tree depth\n",
    "    'min_samples_leaf': [5, 10],  # Increase minimum samples per leaf\n",
    "    'min_samples_split': [5, 10],  # Increase minimum samples per split\n",
    "    'criterion': ['gini', 'entropy'],\n",
    "    'random_state': [42]\n",
    "}\n",
    "\n",
    "\n",
    "#Grid Search Object with Decision Tree Classifier\n",
    "grid_search = GridSearchCV(estimator = dtree, param_grid = param_grid, cv = 5, n_jobs = -1, verbose = 2, scoring='accuracy')\n",
    "\n",
    "#Fitting the data\n",
    "grid_search.fit(X_train_resampled, y_train_resampled)\n",
    "\n",
    "#Best parameters\n",
    "print(grid_search.best_params_)"
   ]
  },
  {
   "cell_type": "code",
   "execution_count": null,
   "id": "f7e6b80c-ae71-466d-93aa-8449e353b682",
   "metadata": {},
   "outputs": [],
   "source": [
    "#Decision Tree Classifier Object with best parameters\n",
    "# dtree  = DecisionTreeClassifier(criterion='gini', max_depth=6, min_samples_leaf=2, min_samples_split=10, random_state=42)\n",
    "dtree = DecisionTreeClassifier(\n",
    "    criterion='entropy', \n",
    "    max_depth=8, \n",
    "    min_samples_leaf=10, \n",
    "    min_samples_split=5, \n",
    "    random_state=42\n",
    ")\n",
    "\n",
    "#Fitting the data\n",
    "dtree.fit(X_train_resampled, y_train_resampled)\n",
    "\n",
    "#Training accuracy\n",
    "print('Training Accuracy: ', dtree.score(X_train_resampled, y_train_resampled))\n",
    "\n",
    "# Testing accuracy\n",
    "print('Testing Accuracy: ', dtree.score(X_test, y_test))\n",
    "\n",
    "#Predicting the values\n",
    "d_pred = dtree.predict(X_test)"
   ]
  },
  {
   "cell_type": "markdown",
   "id": "7845f0e1-44aa-4629-8857-3849a9535f4c",
   "metadata": {},
   "source": [
    "### Random Forest Classifier\n",
    "\n",
    "An ensemble of decision trees that improves accuracy and reduces overfitting."
   ]
  },
  {
   "cell_type": "code",
   "execution_count": 49,
   "id": "8957f7b1-64da-4839-acff-b55d9cc48ea9",
   "metadata": {},
   "outputs": [],
   "source": [
    "from sklearn.ensemble import RandomForestClassifier\n",
    "\n",
    "#Random Forest Classifier Object\n",
    "rfc = RandomForestClassifier(random_state=42)"
   ]
  },
  {
   "cell_type": "markdown",
   "id": "f1f18cab-6bad-4fa8-aa2e-4ffe0b4356ef",
   "metadata": {},
   "source": [
    "#### Hyperparameter Tuning using GridSearchCV"
   ]
  },
  {
   "cell_type": "code",
   "execution_count": null,
   "id": "f511ad8a-0cbb-4ab7-8eee-f7124b85d5ab",
   "metadata": {},
   "outputs": [],
   "source": [
    "#parameter grid\n",
    "# param_grid = {\n",
    "#     'max_depth': [2,4,6,8,10],\n",
    "#     'min_samples_leaf': [2,4,6,8,10],\n",
    "#     'min_samples_split': [2,4,6,8,10],\n",
    "#     'criterion': ['gini', 'entropy'],\n",
    "#     'random_state': [0,42]\n",
    "# }\n",
    "\n",
    "param_grid = {\n",
    "    'n_estimators': [50, 100, 150],  \n",
    "    'max_depth': [6, 8, 10],  \n",
    "    'min_samples_leaf': [5, 10, 20],  \n",
    "    'min_samples_split': [5, 10, 20],  \n",
    "    'criterion': ['gini', 'entropy'],  \n",
    "    'random_state': [42]\n",
    "}\n",
    "\n",
    "\n",
    "\n",
    "#Grid Search Object with Random Forest Classifier\n",
    "grid_search = GridSearchCV(estimator = rfc, param_grid = param_grid, cv = 5, n_jobs = -1, verbose = 2, scoring='accuracy')\n",
    "\n",
    "#Fitting the data\n",
    "grid_search.fit(X_train_resampled, y_train_resampled)\n",
    "\n",
    "#Best parameters\n",
    "print(grid_search.best_params_)"
   ]
  },
  {
   "cell_type": "code",
   "execution_count": null,
   "id": "8ca9c36c-de3c-4266-9315-02116418c102",
   "metadata": {},
   "outputs": [],
   "source": [
    "#Random Forest Classifier Object with best parameters\n",
    "# rfc = RandomForestClassifier(criterion='entropy', max_depth=10, min_samples_leaf=10, min_samples_split=2, random_state=42) \n",
    "rfc = RandomForestClassifier(n_estimators=50,criterion='entropy', max_depth=10, min_samples_leaf=5, min_samples_split=5, random_state=42) \n",
    "\n",
    "#Fitting the data\n",
    "rfc.fit(X_train_resampled, y_train_resampled)\n",
    "\n",
    "#Training accuracy\n",
    "print('Training Accuracy: ', rfc.score(X_train_resampled, y_train_resampled))\n",
    "\n",
    "# Testing accuracy\n",
    "print('Testing Accuracy: ', rfc.score(X_test, y_test))\n",
    "\n",
    "#Predicting the values\n",
    "r_pred = rfc.predict(X_test)"
   ]
  },
  {
   "cell_type": "markdown",
   "id": "d9bf03fd-ec34-49b3-a18a-ebbbfcdb15f1",
   "metadata": {},
   "source": [
    "### K Nearest Neighbors Classifier"
   ]
  },
  {
   "cell_type": "code",
   "execution_count": 51,
   "id": "d401dff8-0c4d-4990-9069-b08e633f3b98",
   "metadata": {},
   "outputs": [],
   "source": [
    "from sklearn.neighbors import KNeighborsClassifier\n",
    "\n",
    "#KNN Classifier Object\n",
    "knn = KNeighborsClassifier()"
   ]
  },
  {
   "cell_type": "markdown",
   "id": "c53893f7-fd04-4cff-8ae6-626ad5a83bd6",
   "metadata": {},
   "source": [
    "#### Hyperparameter Tuning using GridSearchCV"
   ]
  },
  {
   "cell_type": "code",
   "execution_count": null,
   "id": "e5ca08e6-9dc1-4107-8abc-2c6c6846db96",
   "metadata": {},
   "outputs": [],
   "source": [
    "#parameter grid\n",
    "# param_grid = {\n",
    "#     'n_neighbors': [2,4,6,8,10],\n",
    "#     'weights': ['uniform', 'distance'],\n",
    "#     'algorithm': ['auto', 'ball_tree', 'kd_tree', 'brute']\n",
    "# }\n",
    "\n",
    "\n",
    "param_grid = {\n",
    "    'n_neighbors': [4, 6, 8, 10],\n",
    "    'weights': ['uniform', 'distance'],\n",
    "    'algorithm': ['auto', 'ball_tree', 'kd_tree']\n",
    "}\n",
    "\n",
    "\n",
    "#Grid Search Object with KNN Classifier\n",
    "grid_search = GridSearchCV(estimator = knn, param_grid = param_grid, cv = 5, n_jobs = -1, verbose = 2, scoring='accuracy')\n",
    "\n",
    "#Fitting the data\n",
    "grid_search.fit(X_train_resampled, y_train_resampled)\n",
    "\n",
    "#Best parameters\n",
    "print(grid_search.best_params_)"
   ]
  },
  {
   "cell_type": "code",
   "execution_count": null,
   "id": "be42c360-eca2-4ecf-a69a-7fd98f32fc1b",
   "metadata": {},
   "outputs": [],
   "source": [
    "#KNN Classifier Object with best parameters\n",
    "# knn = KNeighborsClassifier(algorithm='ball_tree', n_neighbors=6, weights='uniform')\n",
    "knn = KNeighborsClassifier(algorithm='auto', n_neighbors=4, weights='uniform')\n",
    "\n",
    "#Fitting the data\n",
    "knn.fit(X_train_resampled, y_train_resampled)\n",
    "# knn.fit(X_train, y_train)\n",
    "\n",
    "#Training accuracy\n",
    "print('Training Accuracy: ', knn.score(X_train_resampled, y_train_resampled))\n",
    "# print('Training Accuracy: ', knn.score(X_train, y_train))\n",
    "\n",
    "# Testing accuracy\n",
    "print('Testing Accuracy: ', knn.score(X_test, y_test))\n",
    "\n",
    "#Predicting the values\n",
    "k_pred = knn.predict(X_test)"
   ]
  },
  {
   "cell_type": "markdown",
   "id": "e9abd360-eda0-44d1-a06f-4690fa15b252",
   "metadata": {},
   "source": [
    "### Logistic Regression Classifier\n",
    "\n",
    "A linear model that estimates the probability of churn using a logistic function."
   ]
  },
  {
   "cell_type": "code",
   "execution_count": 53,
   "id": "db029af8-c911-4179-8c35-d210c4e4d16a",
   "metadata": {},
   "outputs": [],
   "source": [
    "from sklearn.linear_model import LogisticRegression\n",
    "\n",
    "# Logistic Regression Classifier Object\n",
    "log_reg = LogisticRegression(random_state=42, max_iter=500)"
   ]
  },
  {
   "cell_type": "markdown",
   "id": "9de84097-965b-414e-a84c-0495fc720b3b",
   "metadata": {},
   "source": [
    "#### Hyperparameter Tuning using GridSearchCV"
   ]
  },
  {
   "cell_type": "code",
   "execution_count": null,
   "id": "1c846641-4dd6-44df-abba-c743dbe2a761",
   "metadata": {},
   "outputs": [],
   "source": [
    "# Parameter grid for Logistic Regression\n",
    "param_grid = {\n",
    "    'C': [0.01, 0.1, 1, 10, 100],  # Regularization strength\n",
    "    'solver': ['liblinear', 'lbfgs']  # Solvers for optimization\n",
    "}\n",
    "\n",
    "# Grid Search with Logistic Regression\n",
    "grid_search = GridSearchCV(estimator=log_reg, param_grid=param_grid, cv=5, n_jobs=-1, verbose=2, scoring='accuracy')\n",
    "\n",
    "# Fitting the data\n",
    "grid_search.fit(X_train_resampled, y_train_resampled)\n",
    "\n",
    "# Best parameters\n",
    "print(grid_search.best_params_)"
   ]
  },
  {
   "cell_type": "code",
   "execution_count": null,
   "id": "268136be-69eb-4ded-8903-5cdf45a79b65",
   "metadata": {},
   "outputs": [],
   "source": [
    "# Logistic Regression with best parameters\n",
    "log_reg = LogisticRegression(C=100, solver='lbfgs', random_state=42, max_iter=500)\n",
    "\n",
    "# Fitting the data\n",
    "log_reg.fit(X_train_resampled, y_train_resampled)\n",
    "\n",
    "# Training accuracy\n",
    "print('Training Accuracy: ', log_reg.score(X_train_resampled, y_train_resampled))\n",
    "\n",
    "# Testing accuracy\n",
    "print('Testing Accuracy: ', log_reg.score(X_test, y_test))\n",
    "\n",
    "# Predicting values\n",
    "log_pred = log_reg.predict(X_test)"
   ]
  },
  {
   "cell_type": "markdown",
   "id": "726a8f51-3539-4997-9c5b-82c4fbe75797",
   "metadata": {},
   "source": [
    "### SVM Classifier\n",
    "\n",
    "A Support Vector Machine (SVM) finds the optimal boundary to separate churners from non-churners."
   ]
  },
  {
   "cell_type": "code",
   "execution_count": 55,
   "id": "5672bad7-334b-4c7f-b000-7ba23e8db6e7",
   "metadata": {},
   "outputs": [],
   "source": [
    "from sklearn.svm import SVC\n",
    "\n",
    "# SVM Classifier Object\n",
    "svm_clf = SVC(random_state=42)"
   ]
  },
  {
   "cell_type": "markdown",
   "id": "d1dd5b7d-104c-4bcb-8cdf-d7d29fb93db7",
   "metadata": {},
   "source": [
    "#### Hyperparameter Tuning using GridSearchCV"
   ]
  },
  {
   "cell_type": "code",
   "execution_count": null,
   "id": "407cebf2-1048-4a97-85c1-96ca71422bc4",
   "metadata": {},
   "outputs": [],
   "source": [
    "# Parameter grid for SVM\n",
    "param_grid = {\n",
    "    'C': [0.1, 1, 10],  # Regularization parameter\n",
    "    'kernel': ['linear', 'rbf', 'poly'],  # Kernel types\n",
    "    'gamma': ['scale', 'auto']  # Kernel coefficient\n",
    "}\n",
    "\n",
    "# Grid Search with SVM\n",
    "grid_search = GridSearchCV(estimator=svm_clf, param_grid=param_grid, cv=5, n_jobs=-1, verbose=2, scoring='accuracy')\n",
    "\n",
    "# Fitting the data\n",
    "grid_search.fit(X_train_resampled, y_train_resampled)\n",
    "\n",
    "# Best parameters\n",
    "print(grid_search.best_params_)"
   ]
  },
  {
   "cell_type": "code",
   "execution_count": null,
   "id": "ed8c6e14-a3d6-480e-a7a8-1b3b87526d30",
   "metadata": {},
   "outputs": [],
   "source": [
    "# SVM Classifier with best parameters\n",
    "# svm_clf = SVC(C=10, kernel='rbf', gamma='scale', random_state=42)\n",
    "svm_clf = SVC(probability=True, kernel='rbf', C=1, gamma='scale', random_state=42)\n",
    "\n",
    "# Fitting the data\n",
    "svm_clf.fit(X_train_resampled, y_train_resampled)\n",
    "\n",
    "# Training accuracy\n",
    "print('Training Accuracy: ', svm_clf.score(X_train_resampled, y_train_resampled))\n",
    "\n",
    "# Testing accuracy\n",
    "print('Testing Accuracy: ', svm_clf.score(X_test, y_test))\n",
    "\n",
    "# Predicting values\n",
    "svm_pred = svm_clf.predict(X_test)"
   ]
  },
  {
   "cell_type": "markdown",
   "id": "e1ab6937-ea2c-4152-9e66-e70809a70218",
   "metadata": {},
   "source": [
    "### XGBoost Classifier\n",
    "\n",
    "An advanced gradient boosting algorithm that is highly effective for classification tasks."
   ]
  },
  {
   "cell_type": "code",
   "execution_count": 57,
   "id": "8e0f3303-4337-4ad3-ae91-8f4f796b8503",
   "metadata": {},
   "outputs": [],
   "source": [
    "from xgboost import XGBClassifier\n",
    "\n",
    "# XGBoost Classifier Object\n",
    "xgb_clf = XGBClassifier(random_state=42, use_label_encoder=False, eval_metric='logloss')"
   ]
  },
  {
   "cell_type": "markdown",
   "id": "8713deec-1a43-4f8c-b95a-88bd265a07a1",
   "metadata": {},
   "source": [
    "#### Hyperparameter Tuning using GridSearchCV"
   ]
  },
  {
   "cell_type": "code",
   "execution_count": null,
   "id": "7598e29f-48db-484e-b96e-7665cbe0fce4",
   "metadata": {},
   "outputs": [],
   "source": [
    "# Parameter grid for XGBoost\n",
    "param_grid = {\n",
    "    'n_estimators': [50, 100], \n",
    "    'max_depth': [3, 5, 7], \n",
    "    'learning_rate': [0.01, 0.05, 0.1], \n",
    "    'subsample': [0.8, 1.0]\n",
    "}\n",
    "\n",
    "# Grid Search with XGBoost\n",
    "grid_search = GridSearchCV(estimator=xgb_clf, param_grid=param_grid, cv=5, n_jobs=-1, verbose=2, scoring='accuracy')\n",
    "\n",
    "# Fitting the data\n",
    "grid_search.fit(X_train_resampled, y_train_resampled)\n",
    "\n",
    "# Best parameters\n",
    "print(grid_search.best_params_)"
   ]
  },
  {
   "cell_type": "code",
   "execution_count": null,
   "id": "1c203e31-b397-4281-9e58-f4580219c7cd",
   "metadata": {},
   "outputs": [],
   "source": [
    "# XGBoost Classifier with best parameters\n",
    "# xgb_clf = XGBClassifier(n_estimators=100, max_depth=7, learning_rate=0.1, subsample=1.0, random_state=42, use_label_encoder=False, eval_metric='logloss')\n",
    "xgb_clf = XGBClassifier(n_estimators=50, max_depth=6, learning_rate=0.1, subsample=.8, random_state=42, use_label_encoder=False, eval_metric='logloss')\n",
    "\n",
    "# Fitting the data\n",
    "xgb_clf.fit(X_train_resampled, y_train_resampled)\n",
    "\n",
    "# Training accuracy\n",
    "print('Training Accuracy: ', xgb_clf.score(X_train_resampled, y_train_resampled))\n",
    "\n",
    "# Testing accuracy\n",
    "print('Testing Accuracy: ', xgb_clf.score(X_test, y_test))\n",
    "\n",
    "# Predicting values\n",
    "xgb_pred = xgb_clf.predict(X_test)"
   ]
  },
  {
   "cell_type": "markdown",
   "id": "618ec422-f699-448d-ad82-1fb2a88e988d",
   "metadata": {},
   "source": [
    "## Model Evaluation"
   ]
  },
  {
   "cell_type": "markdown",
   "id": "aff13000-3926-435c-888f-f1627192a957",
   "metadata": {},
   "source": [
    "### Confusion Matrix Heatmap"
   ]
  },
  {
   "cell_type": "code",
   "execution_count": 59,
   "id": "14134821-1881-43d1-9b94-ab1bcf8fe7dd",
   "metadata": {},
   "outputs": [],
   "source": [
    "from sklearn.metrics import confusion_matrix"
   ]
  },
  {
   "cell_type": "code",
   "execution_count": null,
   "id": "9537d0ad-2c94-4aa9-b16e-2b1d64cc9fee",
   "metadata": {},
   "outputs": [],
   "source": [
    "# Get confusion matrices\n",
    "dt_cm = confusion_matrix(y_test, d_pred)\n",
    "rf_cm = confusion_matrix(y_test, r_pred)\n",
    "knn_cm = confusion_matrix(y_test, k_pred)\n",
    "log_cm = confusion_matrix(y_test, log_pred)\n",
    "svm_cm = confusion_matrix(y_test, svm_pred)\n",
    "xgb_cm = confusion_matrix(y_test, xgb_pred)\n",
    "\n",
    "# Print confusion matrices\n",
    "print(\"Decision Tree Confusion Matrix:\\n\", dt_cm)\n",
    "print(\"\\nRandom Forest Confusion Matrix:\\n\", rf_cm)\n",
    "print(\"\\nKNN Confusion Matrix:\\n\", knn_cm)\n",
    "print(\"\\nLogistic Regression Confusion Matrix:\\n\", log_cm)\n",
    "print(\"\\nSVM Confusion Matrix:\\n\", svm_cm)\n",
    "print(\"\\nXGBoost Confusion Matrix:\\n\", xgb_cm)"
   ]
  },
  {
   "cell_type": "code",
   "execution_count": null,
   "id": "943bb49c-86c2-4df9-9029-023689a6b4ba",
   "metadata": {},
   "outputs": [],
   "source": [
    "from sklearn.metrics import confusion_matrix\n",
    "\n",
    "plt.figure(figsize=(20,12))\n",
    "\n",
    "\n",
    "plt.subplot(2,3,1)\n",
    "#Decision Tree Confusion Matrix\n",
    "sns.heatmap(confusion_matrix(y_test, d_pred), annot=True, cmap='coolwarm', fmt='d').set_title('Decision Tree Confusion Matrix')\n",
    "\n",
    "plt.subplot(2,3,2)\n",
    "#Random Forest Confusion Matrix\n",
    "sns.heatmap(confusion_matrix(y_test, r_pred), annot=True, cmap='coolwarm', fmt='d').set_title('Random Forest Confusion Matrix')\n",
    "\n",
    "plt.subplot(2,3,3)\n",
    "#KNN Confusion Matrix\n",
    "sns.heatmap(confusion_matrix(y_test, k_pred), annot=True, cmap='coolwarm', fmt='d').set_title('KNN Confusion Matrix')\n",
    "\n",
    "plt.subplot(2,3,4)\n",
    "# Logistic Regression Confusion Matrix\n",
    "sns.heatmap(confusion_matrix(y_test, log_pred), annot=True, cmap='coolwarm', fmt='d').set_title('Logistic Regression Confusion Matrix')\n",
    "\n",
    "plt.subplot(2,3,5)\n",
    "# SVM Confusion Matrix\n",
    "sns.heatmap(confusion_matrix(y_test, svm_pred), annot=True, cmap='coolwarm', fmt='d').set_title('SVM Confusion Matrix')\n",
    "\n",
    "\n",
    "plt.subplot(2,3,6)\n",
    "# XGBoost Confusion Matrix\n",
    "sns.heatmap(confusion_matrix(y_test, xgb_pred), annot=True, cmap='coolwarm', fmt='d').set_title('XGBoost Confusion Matrix')\n",
    "\n",
    "plt.tight_layout()  # Adjust layout to prevent overlap\n",
    "plt.show()"
   ]
  },
  {
   "cell_type": "markdown",
   "id": "13810d91-207a-49bf-a271-7217e27ce2a6",
   "metadata": {},
   "source": [
    "### Distribution Plot"
   ]
  },
  {
   "cell_type": "code",
   "execution_count": null,
   "id": "22d6f2c1-c414-4e65-ad42-d8cd5112a16e",
   "metadata": {},
   "outputs": [],
   "source": [
    "plt.figure(figsize=(20, 10))\n",
    "\n",
    "# Decision Tree Distribution Plot\n",
    "plt.subplot(2, 3, 1)\n",
    "sns.kdeplot(y_test, color=\"r\", label=\"Actual Value\")\n",
    "sns.kdeplot(d_pred, color=\"b\", label=\"Fitted Values\")\n",
    "plt.title(\"Decision Tree\")\n",
    "plt.legend()\n",
    "\n",
    "# Random Forest Distribution Plot\n",
    "plt.subplot(2, 3, 2)\n",
    "sns.kdeplot(y_test, color=\"r\", label=\"Actual Value\")\n",
    "sns.kdeplot(r_pred, color=\"b\", label=\"Fitted Values\")\n",
    "plt.title(\"Random Forest\")\n",
    "plt.legend()\n",
    "\n",
    "# KNN Distribution Plot\n",
    "plt.subplot(2, 3, 3)\n",
    "sns.kdeplot(y_test, color=\"r\", label=\"Actual Value\")\n",
    "sns.kdeplot(k_pred, color=\"b\", label=\"Fitted Values\")\n",
    "plt.title(\"KNN\")\n",
    "plt.legend()\n",
    "\n",
    "# Logistic Regression Distribution Plot\n",
    "plt.subplot(2, 3, 4)\n",
    "sns.kdeplot(y_test, color=\"r\", label=\"Actual Value\")\n",
    "sns.kdeplot(log_pred, color=\"b\", label=\"Fitted Values\")\n",
    "plt.title(\"Logistic Regression\")\n",
    "plt.legend()\n",
    "\n",
    "# SVM Distribution Plot\n",
    "plt.subplot(2, 3, 5)\n",
    "sns.kdeplot(y_test, color=\"r\", label=\"Actual Value\")\n",
    "sns.kdeplot(svm_pred, color=\"b\", label=\"Fitted Values\")\n",
    "plt.title(\"SVM\")\n",
    "plt.legend()\n",
    "\n",
    "# XGBoost Distribution Plot\n",
    "plt.subplot(2, 3, 6)\n",
    "sns.kdeplot(y_test, color=\"r\", label=\"Actual Value\")\n",
    "sns.kdeplot(xgb_pred, color=\"b\", label=\"Fitted Values\")\n",
    "plt.title(\"XGBoost\")\n",
    "plt.legend()\n",
    "\n",
    "plt.tight_layout()\n",
    "plt.show()"
   ]
  },
  {
   "cell_type": "markdown",
   "id": "b2392a50-cc6f-4ed8-a227-785e45ebd590",
   "metadata": {},
   "source": [
    "### Classification Report"
   ]
  },
  {
   "cell_type": "code",
   "execution_count": null,
   "id": "8cad497b-4775-40b6-a75f-f43996b928c7",
   "metadata": {},
   "outputs": [],
   "source": [
    "from sklearn.metrics import classification_report\n",
    "\n",
    "# Decision Tree\n",
    "print('Decision Tree Classification Report:\\n', classification_report(y_test, d_pred))\n",
    "\n",
    "# Random Forest\n",
    "print('Random Forest Classification Report:\\n', classification_report(y_test, r_pred))\n",
    "\n",
    "# KNN\n",
    "print('KNN Classification Report:\\n', classification_report(y_test, k_pred))\n",
    "\n",
    "# Logistic Regression\n",
    "print('Logistic Regression Classification Report:\\n', classification_report(y_test, log_pred))\n",
    "\n",
    "# SVM\n",
    "print('SVM Classification Report:\\n', classification_report(y_test, svm_pred))\n",
    "\n",
    "# XGBoost\n",
    "print('XGBoost Classification Report:\\n', classification_report(y_test, xgb_pred))"
   ]
  },
  {
   "cell_type": "code",
   "execution_count": null,
   "id": "c66a74e1-6717-4fa3-aa15-14a874abebd1",
   "metadata": {},
   "outputs": [],
   "source": []
  },
  {
   "cell_type": "code",
   "execution_count": null,
   "id": "68594628-2e44-4fe7-b572-639c21769f1d",
   "metadata": {},
   "outputs": [],
   "source": []
  },
  {
   "cell_type": "markdown",
   "id": "8228f835-f6d5-4a45-b806-64411d03b4ac",
   "metadata": {},
   "source": [
    "## 📊 Model Performance Comparison and Conclusion\n",
    "\n",
    "After training and evaluating all models, we compare their performance using accuracy, precision, recall, and F1-score.\n",
    "\n",
    "### Top Performing Models\n",
    "\n",
    "- **Random Forest Classifier:** Highest overall accuracy and balanced performance.\n",
    "- **XGBoost & SVM:** Very close in performance to Random Forest, with strong results on imbalanced data.\n",
    "- **Logistic Regression:** Highest recall for churners, making it useful if catching churners is the priority.\n",
    "\n",
    "### Model Ranking Table\n",
    "\n",
    "| Rank | Model                | Accuracy | Precision (Churn) | Recall (Churn) | F1-Score (Churn) | Notes                                      |\n",
    "|------|----------------------|----------|-------------------|----------------|------------------|---------------------------------------------|\n",
    "| 🥇 1 | Random Forest        | 0.785    | 0.59              | 0.63           | 0.61             | Best overall balance                        |\n",
    "| 🥈 2 | XGBoost              | 0.778    | 0.57              | 0.63           | 0.60             | Powerful, avoids overfitting                |\n",
    "| 🥉 3 | SVM                  | 0.779    | 0.57              | 0.63           | 0.60             | Stable, reliable                            |\n",
    "| 4    | Logistic Regression  | 0.774    | 0.56              | 0.66           | 0.61             | Highest recall for churners                 |\n",
    "| 5    | Decision Tree        | 0.769    | 0.56              | 0.61           | 0.58             | Overfits, lower overall performance         |\n",
    "| 6    | KNN                  | 0.752    | 0.53              | 0.50           | 0.52             | Weak on churners, sensitive to noise        |\n",
    "\n",
    "**Precision:** How many predicted churners were actually churners?  \n",
    "**Recall:** How many actual churners were correctly identified?  \n",
    "**F1-score:** Harmonic mean of precision and recall.\n",
    "\n",
    "### Conclusion\n",
    "\n",
    "- **Random Forest** is the best overall model for this dataset.\n",
    "- **XGBoost** and **SVM** are strong alternatives, especially for imbalanced data.\n",
    "- **Logistic Regression** is best if recall (catching churners) is the main goal.\n",
    "- Simpler models like Decision Tree and KNN underperform compared to ensemble and advanced models.\n",
    "\n",
    "---"
   ]
  },
  {
   "cell_type": "code",
   "execution_count": null,
   "id": "12dfb652-c701-401f-98f4-2d128f6c411d",
   "metadata": {},
   "outputs": [],
   "source": []
  },
  {
   "cell_type": "markdown",
   "id": "134829cc-6c39-4cca-9de5-b630a1098492",
   "metadata": {},
   "source": [
    "## 🧠 Ensemble Learning - Voting Classifier\n",
    "\n",
    "Combining the strengths of multiple models using a Voting Classifier can further improve performance and robustness.\n",
    "\n",
    "### Why Use an Ensemble?\n",
    "\n",
    "- **Balanced Performance:** Combines models that excel at different aspects.\n",
    "- **Reduced Overfitting:** Aggregates diverse model predictions.\n",
    "- **Better Generalization:** More reliable on unseen data.\n",
    "\n",
    "### Models Used in the Ensemble\n",
    "\n",
    "- Random Forest\n",
    "- XGBoost\n",
    "- SVM (with probability output)\n",
    "- Logistic Regression\n",
    "\n",
    "**Soft voting** is used, where the final prediction is based on the average predicted probabilities from all models.\n",
    "\n",
    "---\n",
    "\n",
    "## Final Recommendation\n",
    "\n",
    "- Use the Voting Classifier for production, as it combines the strengths of the best models.\n",
    "- If business priority is to minimize missed churners, consider Logistic Regression or tune the ensemble for higher recall.\n",
    "- Regularly retrain and monitor the model as customer behavior and data patterns evolve.\n",
    "\n",
    "---"
   ]
  },
  {
   "cell_type": "code",
   "execution_count": null,
   "id": "9afdc7d9-fee2-45d9-9c6f-3cb8347bb332",
   "metadata": {},
   "outputs": [],
   "source": []
  },
  {
   "cell_type": "code",
   "execution_count": null,
   "id": "5f749766-87c8-4a1d-ad5a-800e1b6bcdc6",
   "metadata": {
    "scrolled": true
   },
   "outputs": [],
   "source": [
    "from sklearn.ensemble import VotingClassifier\n",
    "\n",
    "# Create the Voting Classifier with soft voting\n",
    "voting_clf = VotingClassifier(\n",
    "    estimators=[\n",
    "        ('rf', rfc),\n",
    "        ('xgb', xgb_clf),\n",
    "        ('svm', svm_clf),\n",
    "        ('lr', log_reg)\n",
    "    ],\n",
    "    voting='soft'\n",
    ")\n",
    "\n",
    "# Fit the Voting Classifier on resampled training data\n",
    "voting_clf.fit(X_train_resampled, y_train_resampled)\n",
    "\n",
    "# Evaluate on training data\n",
    "train_acc = voting_clf.score(X_train_resampled, y_train_resampled)\n",
    "print(\"Training Accuracy:\", train_acc)\n",
    "\n",
    "# Evaluate on testing data\n",
    "test_acc = voting_clf.score(X_test, y_test)\n",
    "print(\"Testing Accuracy:\", test_acc)\n",
    "\n",
    "# Predict on test data\n",
    "voting_pred = voting_clf.predict(X_test)"
   ]
  },
  {
   "cell_type": "code",
   "execution_count": null,
   "id": "ae790a31-c1a1-4e56-99af-b735f8156402",
   "metadata": {},
   "outputs": [],
   "source": [
    "# Print classification report\n",
    "print(\"\\nClassification Report:\")\n",
    "print(classification_report(y_test, voting_pred))\n",
    "\n",
    "# Print confusion matrix\n",
    "print(\"\\nConfusion Matrix:\")\n",
    "print(confusion_matrix(y_test, voting_pred))"
   ]
  },
  {
   "cell_type": "markdown",
   "id": "a13418ee-07a1-4abe-b30d-2850e727a903",
   "metadata": {},
   "source": [
    "### Automate the process with GridSearchCV "
   ]
  },
  {
   "cell_type": "code",
   "execution_count": null,
   "id": "196a6d84-893a-43dd-ba32-bc9949d3c27d",
   "metadata": {},
   "outputs": [],
   "source": [
    "from sklearn.model_selection import GridSearchCV\n",
    "\n",
    "param_grid = {\n",
    "    'weights': [\n",
    "        [1, 1, 1, 1],     # equal\n",
    "        [1, 2, 2, 1],     # more to xgb and svm\n",
    "        [1, 3, 3, 1],     # even more\n",
    "        [1, 4, 4, 1],\n",
    "        [0, 3, 3, 1],     # remove rf if weak\n",
    "    ]\n",
    "}\n",
    "\n",
    "grid = GridSearchCV(estimator=voting_clf, param_grid=param_grid, cv=5, scoring='f1_macro')\n",
    "grid.fit(X_train_resampled, y_train_resampled)\n",
    "\n",
    "print(\"Best Params:\", grid.best_params_)\n",
    "print(\"Best Score:\", grid.best_score_)\n"
   ]
  },
  {
   "cell_type": "code",
   "execution_count": null,
   "id": "175c9c12-5549-4dcf-bcdd-d6f1bbc6e80d",
   "metadata": {},
   "outputs": [],
   "source": [
    "voting_clf_new = VotingClassifier(\n",
    "    estimators=[\n",
    "        ('rf', rfc),\n",
    "        ('xgb', xgb_clf),\n",
    "        ('svm', svm_clf),\n",
    "        ('lr', log_reg)\n",
    "    ],\n",
    "    voting='soft',\n",
    "    weights=[1, 2, 2, 1]  # Heavier weight to XGB and SVM\n",
    ")\n",
    "\n",
    "voting_clf_new.fit(X_train_resampled, y_train_resampled)\n",
    "print(\"Train Accuracy:\", voting_clf_new.score(X_train_resampled, y_train_resampled))\n",
    "print(\"Test Accuracy:\", voting_clf_new.score(X_test, y_test))\n",
    "\n",
    "# Predict on test data\n",
    "voting_pred_new = voting_clf_new.predict(X_test)\n",
    "\n",
    "# Print classification report\n",
    "print(\"\\nClassification Report:\")\n",
    "print(classification_report(y_test, voting_pred_new))\n",
    "\n",
    "# Print confusion matrix\n",
    "print(\"\\nConfusion Matrix:\")\n",
    "print(confusion_matrix(y_test, voting_pred_new))"
   ]
  },
  {
   "cell_type": "markdown",
   "id": "c60c2027-5b8e-4030-b5e5-982ada67fb70",
   "metadata": {},
   "source": [
    "### 🏆 Why This Model is Best\n",
    "\n",
    "- ✅ Combines strengths of top individual models (XGBoost & SVM).\n",
    "- ✅ Improves stability and reduces overfitting.\n",
    "- ✅ Ensures better generalization across customer types.\n",
    "- ✅ Final metrics are either equal or better, especially for Churn class (1).\n",
    "- ✅ Most reliable model to support business decisions in churn prediction.\n",
    "\n",
    "> **Note:**  \n",
    "> Although a tuned Voting Classifier (voting_clf_new) achieved slightly higher test accuracy (78.45% → 78.46%), it **reduced the recall for churners from 0.62 to 0.61**, making it **less effective at identifying customers who are likely to churn**.  \n",
    "> For churn analysis, **catching churners (Recall)** is more important than minor accuracy gains — hence, the **original Voting Classifier is preferred.**\n",
    "\n",
    "#### Model Comparison Summary\n",
    "\n",
    "| Model                 | Train Accuracy | Test Accuracy | F1-Score (Churn) | Recall (Churn) |\n",
    "|-----------------------|----------------|---------------|------------------|----------------|\n",
    "| Decision Tree         | 83.48%         | 76.89%        | 0.58             | 0.61           |\n",
    "| Random Forest         | 87.44%         | 78.53%        | 0.61             | 0.63           |\n",
    "| K-Nearest Neighbors   | 89.17%         | 75.18%        | 0.52             | 0.50           |\n",
    "| Logistic Regression   | 80.31%         | 77.38%        | 0.61             | 0.66           |\n",
    "| Support Vector Machine| 83.28%         | 77.88%        | 0.60             | 0.63           |\n",
    "| XGBoost               | 87.26%         | 77.81%        | 0.60             | 0.63           |\n",
    "| **Voting Classifier** | **84.44%**     | **78.46%**    | **0.60**         | **0.62**       |"
   ]
  },
  {
   "cell_type": "code",
   "execution_count": null,
   "id": "a7e26a10-098d-4659-bd4b-0ba220cf39cf",
   "metadata": {},
   "outputs": [],
   "source": [
    "plt.figure(figsize=(6, 4))\n",
    "sns.kdeplot(y_test, color=\"r\", label=\"Actual Value\")\n",
    "sns.kdeplot(voting_pred, color=\"b\", label=\"Fitted Values\")\n",
    "plt.title(\"Voting Classifier - KDE Plot\")\n",
    "plt.xlabel(\"Class\")\n",
    "plt.ylabel(\"Density\")\n",
    "plt.legend()\n",
    "plt.tight_layout()\n",
    "plt.show()"
   ]
  },
  {
   "cell_type": "code",
   "execution_count": null,
   "id": "8d0bc4cb-ca3f-41cc-9649-41f399edc7ff",
   "metadata": {},
   "outputs": [],
   "source": []
  },
  {
   "cell_type": "code",
   "execution_count": null,
   "id": "976e6d6a-4e60-41b6-81f1-f147439c58f8",
   "metadata": {},
   "outputs": [],
   "source": [
    "from sklearn.metrics import roc_curve, roc_auc_score\n",
    "import matplotlib.pyplot as plt\n",
    "\n",
    "# Get predicted probabilities for the positive class (assume [:,1] for binary classifiers)\n",
    "d_proba = dtree.predict_proba(X_test)[:, 1]\n",
    "r_proba = rfc.predict_proba(X_test)[:, 1]\n",
    "k_proba = knn.predict_proba(X_test)[:, 1]\n",
    "log_proba = log_reg.predict_proba(X_test)[:, 1]\n",
    "svm_proba = svm_clf.decision_function(X_test)\n",
    "xgb_proba = xgb_clf.predict_proba(X_test)[:, 1]\n",
    "voting_proba = voting_clf.predict_proba(X_test)[:, 1]\n",
    "\n",
    "# Plotting AUC-ROC Curve\n",
    "plt.figure(figsize=(12, 9))\n",
    "\n",
    "# Plot ROC for each model\n",
    "fpr_dt, tpr_dt, _ = roc_curve(y_test, d_proba)\n",
    "plt.plot(fpr_dt, tpr_dt, label=f'Decision Tree (AUC = {roc_auc_score(y_test, d_proba):.2f})')\n",
    "\n",
    "fpr_rf, tpr_rf, _ = roc_curve(y_test, r_proba)\n",
    "plt.plot(fpr_rf, tpr_rf, label=f'Random Forest (AUC = {roc_auc_score(y_test, r_proba):.2f})')\n",
    "\n",
    "fpr_knn, tpr_knn, _ = roc_curve(y_test, k_proba)\n",
    "plt.plot(fpr_knn, tpr_knn, label=f'KNN (AUC = {roc_auc_score(y_test, k_proba):.2f})')\n",
    "\n",
    "fpr_log, tpr_log, _ = roc_curve(y_test, log_proba)\n",
    "plt.plot(fpr_log, tpr_log, label=f'Logistic Regression (AUC = {roc_auc_score(y_test, log_proba):.2f})')\n",
    "\n",
    "fpr_svm, tpr_svm, _ = roc_curve(y_test, svm_proba)\n",
    "plt.plot(fpr_svm, tpr_svm, label=f'SVM (AUC = {roc_auc_score(y_test, svm_proba):.2f})')\n",
    "\n",
    "fpr_xgb, tpr_xgb, _ = roc_curve(y_test, xgb_proba)\n",
    "plt.plot(fpr_xgb, tpr_xgb, label=f'XGBoost (AUC = {roc_auc_score(y_test, xgb_proba):.2f})')\n",
    "\n",
    "fpr_vote, tpr_vote, _ = roc_curve(y_test, voting_proba)\n",
    "plt.plot(fpr_vote, tpr_vote, label=f'Voting Classifier (AUC = {roc_auc_score(y_test, voting_proba):.2f})', linewidth=2.5, linestyle='--')\n",
    "\n",
    "\n",
    "# Plot diagonal\n",
    "plt.plot([0, 1], [0, 1], 'k--', label='Random Classifier (AUC = 0.5)')\n",
    "\n",
    "# Formatting the plot\n",
    "plt.xlabel('False Positive Rate')\n",
    "plt.ylabel('True Positive Rate')\n",
    "plt.title('AUC-ROC Curve for All Models')\n",
    "plt.legend(loc='lower right')\n",
    "plt.grid()\n",
    "plt.show()"
   ]
  },
  {
   "cell_type": "code",
   "execution_count": null,
   "id": "d7553e98-d7fd-4003-9425-8be157940747",
   "metadata": {},
   "outputs": [],
   "source": []
  },
  {
   "cell_type": "markdown",
   "id": "bd3d2c3b-1955-4757-9527-9a9d90a6aa21",
   "metadata": {},
   "source": [
    "### Visualize Performance"
   ]
  },
  {
   "cell_type": "code",
   "execution_count": null,
   "id": "08cc74e5-1fa0-4f1a-aaf3-1e3afbdff545",
   "metadata": {},
   "outputs": [],
   "source": [
    "# Model performance summary\n",
    "model_data = {\n",
    "    'Model': ['Decision Tree', 'Random Forest', 'KNN', 'Logistic Regression', 'SVM', 'XGBoost', 'Voting Classifier'],\n",
    "    'Test Accuracy': [0.7689, 0.7853, 0.7518, 0.7739, 0.7788, 0.7781, 0.7846],\n",
    "    'F1-Score (Churn)': [0.58, 0.61, 0.52, 0.61, 0.60, 0.60, 0.60],\n",
    "    'Recall (Churn)': [0.61, 0.63, 0.50, 0.66, 0.63, 0.63, 0.62]\n",
    "}\n",
    "\n",
    "df = pd.DataFrame(model_data)\n",
    "\n",
    "# Plotting\n",
    "plt.figure(figsize=(12, 6))\n",
    "ax = sns.barplot(x='Model', y='Test Accuracy', data=df, palette='Set2')\n",
    "plt.title('Model Comparison - Test Accuracy')\n",
    "plt.xticks(rotation=45)\n",
    "plt.ylim(0.70, 0.80)\n",
    "\n",
    "# Annotate bars with accuracy values\n",
    "for p in ax.patches:\n",
    "    height = p.get_height()\n",
    "    ax.annotate(f'{height:.4f}',            \n",
    "                (p.get_x() + p.get_width() / 2., height),\n",
    "                ha='center', va='bottom', fontsize=10, color='black')\n",
    "\n",
    "plt.tight_layout()\n",
    "plt.show()\n"
   ]
  },
  {
   "cell_type": "code",
   "execution_count": null,
   "id": "3e3c6552-b49c-42e8-8399-746437b55ac8",
   "metadata": {},
   "outputs": [],
   "source": []
  },
  {
   "cell_type": "markdown",
   "id": "a4d0bd9c-9bf3-4090-829d-c63172ddbc5a",
   "metadata": {},
   "source": [
    "### Model Metrics"
   ]
  },
  {
   "cell_type": "code",
   "execution_count": null,
   "id": "a4c5ea47-dd76-46a0-8dce-375e3c83468f",
   "metadata": {
    "scrolled": true
   },
   "outputs": [],
   "source": [
    "import matplotlib.pyplot as plt\n",
    "import seaborn as sns\n",
    "from sklearn.metrics import accuracy_score, mean_squared_error, mean_absolute_error, f1_score\n",
    "\n",
    "# Your model names and predictions\n",
    "model_names = ['Decision Tree', 'Random Forest', 'KNN', 'Logistic Regression', 'SVM', 'XGBoost', 'Voting Classifier']\n",
    "model_preds = [d_pred, r_pred, k_pred, log_pred, svm_pred, xgb_pred, voting_pred]\n",
    "\n",
    "# Colors\n",
    "colors = ['#FF9999', '#66B2FF', '#99FF99', '#FFD700', '#FFB6C1', '#DDA0DD', '#90EE90']\n",
    "\n",
    "# Helper function to annotate bars\n",
    "def annotate_bars(ax, fmt=\".4f\"):\n",
    "    for p in ax.patches:\n",
    "        height = p.get_height()\n",
    "        ax.annotate(f'{height:{fmt}}', \n",
    "                    (p.get_x() + p.get_width() / 2., height),\n",
    "                    ha='center', va='bottom', fontsize=10, color='black')\n",
    "\n",
    "# Plot Accuracy\n",
    "plt.figure(figsize=(10, 5))\n",
    "acc_scores = [accuracy_score(y_test, pred) for pred in model_preds]\n",
    "ax = sns.barplot(x=model_names, y=acc_scores, palette=colors)\n",
    "plt.title('Accuracy Score')\n",
    "plt.ylabel('Score')\n",
    "plt.xticks(rotation=45)\n",
    "annotate_bars(ax)\n",
    "plt.tight_layout()\n",
    "plt.show()\n",
    "\n",
    "# Plot MSE\n",
    "plt.figure(figsize=(10, 5))\n",
    "mse_scores = [mean_squared_error(y_test, pred) for pred in model_preds]\n",
    "ax = sns.barplot(x=model_names, y=mse_scores, palette=colors)\n",
    "plt.title('Mean Squared Error')\n",
    "plt.ylabel('Error')\n",
    "plt.xticks(rotation=45)\n",
    "annotate_bars(ax)\n",
    "plt.tight_layout()\n",
    "plt.show()\n",
    "\n",
    "# Plot MAE\n",
    "plt.figure(figsize=(10, 5))\n",
    "mae_scores = [mean_absolute_error(y_test, pred) for pred in model_preds]\n",
    "ax = sns.barplot(x=model_names, y=mae_scores, palette=colors)\n",
    "plt.title('Mean Absolute Error')\n",
    "plt.ylabel('Error')\n",
    "plt.xticks(rotation=45)\n",
    "annotate_bars(ax)\n",
    "plt.tight_layout()\n",
    "plt.show()\n",
    "\n",
    "# Plot F1 Score\n",
    "plt.figure(figsize=(10, 5))\n",
    "f1_scores = [f1_score(y_test, pred) for pred in model_preds]\n",
    "ax = sns.barplot(x=model_names, y=f1_scores, palette=colors)\n",
    "plt.title('F1 Score (Churn Class)')\n",
    "plt.ylabel('Score')\n",
    "plt.xticks(rotation=45)\n",
    "annotate_bars(ax)\n",
    "plt.tight_layout()\n",
    "plt.show()\n"
   ]
  },
  {
   "cell_type": "code",
   "execution_count": null,
   "id": "8b89c112-2b89-48ec-9649-d07cc8c7bb4a",
   "metadata": {},
   "outputs": [],
   "source": []
  },
  {
   "cell_type": "markdown",
   "id": "f0ceaacb-4a35-4845-828f-3eaa9819c0d1",
   "metadata": {},
   "source": [
    "### Feature Importance"
   ]
  },
  {
   "cell_type": "code",
   "execution_count": null,
   "id": "d3ec007e-f328-43bf-bdce-1cefaba56818",
   "metadata": {},
   "outputs": [],
   "source": [
    "plt.figure(figsize=(16, 10))\n",
    "\n",
    "# Plot 1: Decision Tree\n",
    "feature_df = pd.DataFrame({'Features': X_train.columns, 'Importance': dtree.feature_importances_})\n",
    "feature_df.sort_values('Importance', ascending=False, inplace=True)\n",
    "\n",
    "plt.subplot(2, 2, 1)\n",
    "sns.barplot(x='Importance', y='Features', data=feature_df, palette='viridis')\n",
    "plt.title('Decision Tree Feature Importance')\n",
    "\n",
    "# Plot 2: Random Forest\n",
    "feature_df = pd.DataFrame({'Features': X_train.columns, 'Importance': rfc.feature_importances_})\n",
    "feature_df.sort_values('Importance', ascending=False, inplace=True)\n",
    "\n",
    "plt.subplot(2, 2, 2)\n",
    "sns.barplot(x='Importance', y='Features', data=feature_df, palette='magma')\n",
    "plt.title('Random Forest Feature Importance')\n",
    "\n",
    "# Plot 3: XGBoost\n",
    "feature_df = pd.DataFrame({'Features': X_train.columns, 'Importance': xgb_clf.feature_importances_})\n",
    "feature_df.sort_values('Importance', ascending=False, inplace=True)\n",
    "\n",
    "plt.subplot(2, 2, 3)\n",
    "sns.barplot(x='Importance', y='Features', data=feature_df, palette='coolwarm')\n",
    "plt.title('XGBoost Feature Importance')\n",
    "\n",
    "# Plot 4: Logistic Regression\n",
    "feature_df = pd.DataFrame({'Features': X_train.columns, 'Importance': np.abs(log_reg.coef_[0])})\n",
    "feature_df.sort_values('Importance', ascending=False, inplace=True)\n",
    "\n",
    "plt.subplot(2, 2, 4)\n",
    "sns.barplot(x='Importance', y='Features', data=feature_df, palette='Set2')\n",
    "plt.title('Logistic Regression Feature Importance')\n",
    "\n",
    "plt.tight_layout()\n",
    "plt.show()"
   ]
  },
  {
   "cell_type": "code",
   "execution_count": null,
   "id": "8ee206c4-6dfe-488d-97eb-ff6c20465f5d",
   "metadata": {},
   "outputs": [],
   "source": [
    "# SVM Feature Importance (only works with linear kernel)\n",
    "if hasattr(svm_clf, \"coef_\"):\n",
    "    # Create DataFrame with absolute values of coefficients\n",
    "    feature_df = pd.DataFrame({\n",
    "        'Features': X_train.columns,\n",
    "        'Importance': abs(svm_clf.coef_[0])\n",
    "    })\n",
    "    \n",
    "    # Sort by importance\n",
    "    feature_df.sort_values('Importance', ascending=False, inplace=True)\n",
    "\n",
    "    # Plot\n",
    "    plt.figure(figsize=(10, 6))\n",
    "    sns.barplot(x='Importance', y='Features', data=feature_df, palette='viridis')\n",
    "    plt.title('SVM (Linear Kernel) Feature Importance')\n",
    "    plt.tight_layout()\n",
    "    plt.show()\n",
    "else:\n",
    "    print(\"SVM model does not support coef_ (not a linear kernel).\")"
   ]
  },
  {
   "cell_type": "markdown",
   "id": "050f403c-ba2d-4bee-b8ea-195c9f41be9c",
   "metadata": {},
   "source": [
    "### 📌 Why Feature Importance Isn't Available for All Models\n",
    "\n",
    "| Model                  | Feature Importance Support | Why or Why Not                                                                 |\n",
    "|------------------------|----------------------------|--------------------------------------------------------------------------------|\n",
    "| ✅ Decision Tree        | **Yes**                    | Built-in feature importances based on Gini/entropy splits.                     |\n",
    "| ✅ Random Forest        | **Yes**                    | Aggregates importance from all decision trees in the forest.                   |\n",
    "| ✅ XGBoost              | **Yes**                    | Uses metrics like gain, weight, and cover from tree splits.                    |\n",
    "| ✅ Logistic Regression  | **Yes (via `coef_`)**      | Coefficients indicate feature weights and directions (positive/negative).      |\n",
    "| ✅ SVM (Linear)         | **Yes (via `coef_`)**      | Only for linear kernel; coefficients show magnitude of feature influence.      |\n",
    "| ❌ K-Nearest Neighbors  | **No**                     | Non-parametric model — no fitting process to assign feature importance.        |\n",
    "| ❌ Voting Classifier    | **No**                     | It's an ensemble — cannot directly aggregate importance across diverse models. |\n"
   ]
  },
  {
   "cell_type": "code",
   "execution_count": null,
   "id": "9473be3f-feb8-466d-85fd-cdfd3c5dbd59",
   "metadata": {},
   "outputs": [],
   "source": []
  },
  {
   "cell_type": "markdown",
   "id": "9fba01f9-6961-45d9-b59e-7d3f270d0bdb",
   "metadata": {},
   "source": [
    "## Save Objects with joblib"
   ]
  },
  {
   "cell_type": "code",
   "execution_count": null,
   "id": "5e5e74c3-8a2a-40a7-876d-c656f7cab18e",
   "metadata": {},
   "outputs": [],
   "source": [
    "feature_order = X_train.columns.tolist()\n",
    "feature_order"
   ]
  },
  {
   "cell_type": "code",
   "execution_count": null,
   "id": "023057ba-555c-40dd-8e94-4eb587912e16",
   "metadata": {},
   "outputs": [],
   "source": [
    "import joblib\n",
    "\n",
    "# Save the Voting Classifier model\n",
    "joblib.dump(voting_clf, 'models_and_preprocessing/voting_classifier_model.joblib')\n",
    "\n",
    "\n",
    "# Save the Label Encoder\n",
    "if 'Churn' in label_encoders:\n",
    "    del label_encoders['Churn']\n",
    "    \n",
    "joblib.dump(label_encoders, 'models_and_preprocessing/label_encoders_dict.joblib')\n",
    "\n",
    "# Save the Standard Scaler\n",
    "joblib.dump(sc, 'models_and_preprocessing/standard_scaler.joblib')\n",
    "\n",
    "# Save the Feature order \n",
    "joblib.dump(feature_order, 'models_and_preprocessing/feature_order.joblib')\n",
    "\n",
    "# Save the Random forest model\n",
    "joblib.dump(rfc, 'models_and_preprocessing/random_forest_model.joblib')\n",
    "\n",
    "print(\"All objects are saved.✅\")"
   ]
  },
  {
   "cell_type": "code",
   "execution_count": null,
   "id": "3e73ffc2-65a6-4880-9ce0-398af4007365",
   "metadata": {},
   "outputs": [],
   "source": []
  }
 ],
 "metadata": {
  "kernelspec": {
   "display_name": ".venv",
   "language": "python",
   "name": "python3"
  },
  "language_info": {
   "codemirror_mode": {
    "name": "ipython",
    "version": 3
   },
   "file_extension": ".py",
   "mimetype": "text/x-python",
   "name": "python",
   "nbconvert_exporter": "python",
   "pygments_lexer": "ipython3",
   "version": "3.13.0"
  }
 },
 "nbformat": 4,
 "nbformat_minor": 5
}
